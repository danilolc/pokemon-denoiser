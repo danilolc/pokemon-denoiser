{
 "cells": [
  {
   "cell_type": "code",
   "execution_count": 81,
   "metadata": {},
   "outputs": [],
   "source": [
    "import os\n",
    "from PIL import Image\n",
    "from torchvision import transforms\n",
    "from matplotlib import pyplot as plt\n",
    "import random\n",
    "import torch"
   ]
  },
  {
   "cell_type": "code",
   "execution_count": 2,
   "metadata": {},
   "outputs": [],
   "source": [
    "src1 = \"dataset/frlg/\"\n",
    "src2 = \"dataset/frlg_cont/\"\n",
    "\n",
    "dst = \"dataset/frlg_hue/\"\n",
    "os.makedirs(dst, exist_ok=True)\n",
    "\n",
    "imgs = os.listdir(src1)\n",
    "if \"back\" in imgs:\n",
    "    imgs.remove(\"back\")\n",
    "\n",
    "random.shuffle(imgs)\n",
    "\n",
    "for i in imgs:\n",
    "    toTensor = transforms.ToTensor()\n",
    "    img = Image.open(src1 + i)\n",
    "    img_rgb = toTensor(img.convert(\"RGBA\"))\n",
    "    img_hsv = toTensor(img.convert(\"HSV\"))\n",
    "\n",
    "    con = Image.open(src2 + i)\n",
    "    con = toTensor(con.convert(\"L\"))\n",
    "\n",
    "    white = (img_hsv[[1]] < 0.1).float()\n",
    "    black = (img_hsv[[2]] < 0.1).float()\n",
    "    gray = white * (img_hsv[[2]] < 0.5).float()\n",
    "\n",
    "    img_hsv[[1]] = 0.8\n",
    "    img_hsv[[2]] = 0.8\n",
    "\n",
    "    alpha = img_rgb[[3]]\n",
    "\n",
    "    conv1 = transforms.ToPILImage(mode=\"HSV\")\n",
    "    img_rgb = toTensor(conv1(img_hsv).convert(\"RGB\"))\n",
    "\n",
    "    img_rgb += white\n",
    "    img_rgb = img_rgb.clamp(0,1)\n",
    "\n",
    "    img_rgb -= gray / 2\n",
    "    img_rgb = img_rgb.clamp(0,1)\n",
    "\n",
    "    img_rgb -= black\n",
    "    img_rgb = img_rgb.clamp(0,1)\n",
    "\n",
    "    img_rgb -= con\n",
    "    img_rgb = img_rgb.clamp(0,1)\n",
    "\n",
    "    img_rgb += (1-alpha)\n",
    "    img_rgb = img_rgb.clamp(0,1)\n",
    "\n",
    "    conv2 = transforms.ToPILImage(mode=\"RGB\")\n",
    "    conv2(img_rgb).save(dst + i)\n"
   ]
  },
  {
   "cell_type": "code",
   "execution_count": 238,
   "metadata": {},
   "outputs": [
    {
     "data": {
      "image/png": "[encoded data removed]",
      "text/plain": [
       "<Figure size 800x500 with 4 Axes>"
      ]
     },
     "metadata": {},
     "output_type": "display_data"
    }
   ],
   "source": [
    "src1 = \"dataset/frlg/\"\n",
    "src2 = \"dataset/frlg_cont/\"\n",
    "\n",
    "dst = \"dataset/frlg_hue/\"\n",
    "os.makedirs(dst, exist_ok=True)\n",
    "\n",
    "imgs = os.listdir(src1)\n",
    "if \"back\" in imgs:\n",
    "    imgs.remove(\"back\")\n",
    "\n",
    "random.shuffle(imgs)\n",
    "\n",
    "\n",
    "for i in imgs:\n",
    "    toTensor = transforms.ToTensor()\n",
    "    img = Image.open(src1 + i)\n",
    "    img_rgb = toTensor(img.convert(\"RGBA\"))\n",
    "    img_hsv = toTensor(img.convert(\"HSV\"))\n",
    "\n",
    "    alpha = img_rgb[[3]]\n",
    "    img_rgb = img_rgb[[0,1,2]]\n",
    "    img_rgb = img_rgb + (1 - alpha)\n",
    "    img_rgb = img_rgb.clamp(0,1)\n",
    "\n",
    "    con = Image.open(src2 + i)\n",
    "    con = toTensor(con.convert(\"L\"))[0]\n",
    "\n",
    "    img_rgb = (img_rgb - con).clamp(0,1)\n",
    "\n",
    "    hue = img_hsv[0]\n",
    "    hue = (hue - con).clamp(0,1)\n",
    "    hue = (hue - (1 - alpha[0])).clamp(0,1)\n",
    "\n",
    "    zr = (hue <= 0).float()\n",
    "\n",
    "    hue_xy = hue * torch.pi * 2\n",
    "    hue_xy = torch.stack([torch.cos(hue_xy), torch.sin(hue_xy), img_hsv[2]], dim=0)\n",
    "    hue_xy *= (1 - zr)\n",
    "    hue_xy = hue_xy.flatten(start_dim=1)\n",
    "\n",
    "    fig, axes = plt.subplots(1, 4, figsize=(8, 5))\n",
    "    axes[0].imshow(img_rgb.permute(1,2,0))\n",
    "    axes[1].imshow(con, cmap=\"gray\")\n",
    "    axes[2].imshow(hue)\n",
    "    axes[3].scatter(hue_xy[0], hue_xy[1], vmin=0, vmax=1, marker=\"*\", c=hue_xy[2])\n",
    "    axes[3].set_box_aspect(1)\n",
    "    axes[3].set_xlim(-1, 1)\n",
    "    axes[3].set_ylim(-1, 1)\n",
    "    axes[3].xaxis.set_visible(False)\n",
    "    axes[3].yaxis.set_visible(False)\n",
    "    plt.show()\n",
    "\n",
    "    break"
   ]
  }
 ],
 "metadata": {
  "kernelspec": {
   "display_name": "base",
   "language": "python",
   "name": "python3"
  },
  "language_info": {
   "codemirror_mode": {
    "name": "ipython",
    "version": 3
   },
   "file_extension": ".py",
   "mimetype": "text/x-python",
   "name": "python",
   "nbconvert_exporter": "python",
   "pygments_lexer": "ipython3",
   "version": "3.11.5"
  }
 },
 "nbformat": 4,
 "nbformat_minor": 2
}
