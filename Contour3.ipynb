{
 "cells": [
  {
   "cell_type": "code",
   "execution_count": 246,
   "metadata": {},
   "outputs": [],
   "source": [
    "import os\n",
    "from PIL import Image\n",
    "from torchvision import transforms\n",
    "from matplotlib import pyplot as plt"
   ]
  },
  {
   "cell_type": "code",
   "execution_count": 247,
   "metadata": {},
   "outputs": [],
   "source": [
    "src1 = \"dataset/frlg/\"\n",
    "src2 = \"dataset/frlg_cont/\"\n",
    "\n",
    "dst = \"dataset/frlg_hue/\"\n",
    "os.makedirs(dst, exist_ok=True)\n",
    "\n",
    "imgs = os.listdir(src1)\n",
    "if \"back\" in imgs:\n",
    "    imgs.remove(\"back\")\n",
    "\n",
    "#shffle imgs\n",
    "import random\n",
    "random.shuffle(imgs)\n",
    "\n",
    "for i in imgs:\n",
    "    toTensor = transforms.ToTensor()\n",
    "    img = Image.open(src1 + i)\n",
    "    img_rgb = toTensor(img.convert(\"RGBA\"))\n",
    "    img_hsv = toTensor(img.convert(\"HSV\"))\n",
    "\n",
    "    con = Image.open(src2 + i)\n",
    "    con = toTensor(con.convert(\"L\"))\n",
    "\n",
    "    white = (img_hsv[[1]] < 0.1).float()\n",
    "    black = (img_hsv[[2]] < 0.1).float()\n",
    "\n",
    "    img_hsv[[1]] = 0.8\n",
    "    img_hsv[[2]] = 0.8\n",
    "\n",
    "    alpha = img_rgb[[3]]\n",
    "\n",
    "    conv1 = transforms.ToPILImage(mode=\"HSV\")\n",
    "    img_rgb = toTensor(conv1(img_hsv).convert(\"RGB\"))\n",
    "\n",
    "    img_rgb += white\n",
    "    img_rgb = img_rgb.clamp(0,1)\n",
    "\n",
    "    img_rgb -= black\n",
    "    img_rgb = img_rgb.clamp(0,1)\n",
    "\n",
    "    img_rgb -= con\n",
    "    img_rgb = img_rgb.clamp(0,1)\n",
    "\n",
    "    img_rgb += (1-alpha)\n",
    "    img_rgb = img_rgb.clamp(0,1)\n",
    "\n",
    "    conv2 = transforms.ToPILImage(mode=\"RGB\")\n",
    "    conv2(img_rgb).save(dst + i)\n"
   ]
  }
 ],
 "metadata": {
  "kernelspec": {
   "display_name": "base",
   "language": "python",
   "name": "python3"
  },
  "language_info": {
   "codemirror_mode": {
    "name": "ipython",
    "version": 3
   },
   "file_extension": ".py",
   "mimetype": "text/x-python",
   "name": "python",
   "nbconvert_exporter": "python",
   "pygments_lexer": "ipython3",
   "version": "3.11.5"
  }
 },
 "nbformat": 4,
 "nbformat_minor": 2
}
