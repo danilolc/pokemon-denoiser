{
 "cells": [
  {
   "cell_type": "code",
   "execution_count": null,
   "metadata": {},
   "outputs": [],
   "source": [
    "import torch\n",
    "\n",
    "\n",
    "class Despermutador(nn.Module):\n",
    "    def __init__(self, channels=16):\n",
    "        \n",
    "        self.channels = channels\n",
    "\n",
    "        self.feat0 = nn.Parameter(torch.randn(channels))\n",
    "        self.linear = nn.Linear(channels, 1)\n",
    "\n",
    "        self.emb = nn.Linear(channels, 32)\n",
    "        self.layer1 = nn.TransformerEncoderLayer(d_model=32, nhead=8, dim_feedforward=128, batch_first=True)\n",
    "\n",
    "    def forward(self, x1, x2):\n",
    "        x = self.emb(x)\n",
    "        x = self.layer1(x)\n",
    "\n",
    "        x = self.linear(x)\n",
    "\n",
    "\n",
    "        return torch.sigmoid(x)\n"
   ]
  }
 ],
 "metadata": {
  "language_info": {
   "name": "python"
  }
 },
 "nbformat": 4,
 "nbformat_minor": 2
}
