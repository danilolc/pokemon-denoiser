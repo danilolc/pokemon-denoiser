{
 "cells": [
  {
   "cell_type": "code",
   "execution_count": 1,
   "id": "884bbd84-7fd9-435d-933d-a49d07ff4b5a",
   "metadata": {
    "tags": []
   },
   "outputs": [],
   "source": [
    "import torch\n",
    "from torch import nn, optim\n",
    "import torch.nn.functional as F\n",
    "import matplotlib.pyplot as plt\n",
    "\n",
    "from tqdm import tqdm\n",
    "from random import randint"
   ]
  },
  {
   "cell_type": "code",
   "execution_count": 2,
   "id": "d04fc67a-b7e1-49c5-a2b1-a8d1115264f0",
   "metadata": {},
   "outputs": [],
   "source": [
    "F1 = 4\n",
    "F2 = 32\n",
    "F3 = 64\n",
    "F4 = 128"
   ]
  },
  {
   "cell_type": "code",
   "execution_count": 3,
   "id": "5a0c3ca2-6f40-4bcc-a1b3-08ad3af4a2fe",
   "metadata": {
    "tags": []
   },
   "outputs": [],
   "source": [
    "from load_dataset import load_dataset, plot_image\n",
    "\n",
    "device = \"cpu\"\n",
    "\n",
    "pimages = load_dataset().to(device)"
   ]
  },
  {
   "cell_type": "code",
   "execution_count": 15,
   "id": "cada7b54-9294-42c4-a143-dfc2bded6cba",
   "metadata": {
    "tags": []
   },
   "outputs": [
    {
     "data": {
      "image/png": "[encoded data removed]",
      "text/plain": [
       "<Figure size 640x480 with 1 Axes>"
      ]
     },
     "metadata": {},
     "output_type": "display_data"
    }
   ],
   "source": [
    "plot_image(pimages[2][3])"
   ]
  },
  {
   "cell_type": "code",
   "execution_count": 5,
   "id": "d82179b7-3305-4c6b-ab7e-caaba8a42c0e",
   "metadata": {
    "tags": []
   },
   "outputs": [],
   "source": [
    "class DoubleConv(nn.Module):\n",
    "    def __init__(self, in_c, out_c):\n",
    "        super().__init__()\n",
    "        self.double_conv = nn.Sequential(\n",
    "            \n",
    "            nn.Conv2d(in_c, out_c, kernel_size=3, padding='same', bias=False),\n",
    "            nn.GroupNorm(1, out_c),\n",
    "            nn.GELU(),\n",
    "            \n",
    "            nn.Conv2d(out_c, out_c, kernel_size=3, padding='same', bias=False),\n",
    "            nn.GroupNorm(1, out_c),\n",
    "            nn.GELU(),\n",
    "        \n",
    "        )\n",
    "\n",
    "    def forward(self, x):\n",
    "        return self.double_conv(x)\n",
    "        \n",
    "class DoubleResidualConv(nn.Module):\n",
    "    def __init__(self, in_c, out_c):\n",
    "        super().__init__()\n",
    "        self.double_conv = nn.Sequential(\n",
    "            \n",
    "            nn.Conv2d(in_c, out_c, kernel_size=3, padding='same', bias=False),\n",
    "            nn.GroupNorm(1, out_c),\n",
    "            nn.GELU(),\n",
    "            \n",
    "            nn.Conv2d(out_c, out_c, kernel_size=3, padding='same', bias=False),\n",
    "            nn.GroupNorm(1, out_c),\n",
    "        \n",
    "        )\n",
    "\n",
    "    def forward(self, x):\n",
    "        return F.gelu(x + self.double_conv(x))"
   ]
  },
  {
   "cell_type": "code",
   "execution_count": 6,
   "id": "b37e1f21-f796-4037-9e22-91a6b43fc23e",
   "metadata": {},
   "outputs": [],
   "source": [
    "class SConv(nn.Module):\n",
    "    def __init__(self, in_c, out_c):\n",
    "        super().__init__()\n",
    "        self.sconv = nn.Conv2d(in_c, out_c,\n",
    "                               kernel_size=3, \n",
    "                               stride=2, \n",
    "                               padding = 1)\n",
    "    \n",
    "    def forward(self, x):\n",
    "        return F.gelu(self.sconv(x))\n",
    "    \n",
    "class TConv(nn.Module):\n",
    "    def __init__(self, in_c, out_c):\n",
    "        super().__init__()\n",
    "        self.tconv = nn.ConvTranspose2d(in_c, out_c,\n",
    "                                  kernel_size=3, \n",
    "                                  stride=2, \n",
    "                                  padding = 1, \n",
    "                                  output_padding=1)\n",
    "    \n",
    "    def forward(self, x):\n",
    "        return F.gelu(self.tconv(x))"
   ]
  },
  {
   "cell_type": "code",
   "execution_count": 7,
   "id": "7d297ca5-8b17-4258-a57f-e3ca321c8f82",
   "metadata": {},
   "outputs": [],
   "source": [
    "class Encoder(nn.Module):\n",
    "    def __init__(self):\n",
    "        super().__init__()\n",
    "        self.convs1 = nn.Sequential(\n",
    "            DoubleConv(F1, F2),\n",
    "            SConv(F2, F2),\n",
    "            DoubleResidualConv(F2, F2),\n",
    "        )\n",
    "        self.convs2 = nn.Sequential(\n",
    "            DoubleConv(F2, F3),\n",
    "            SConv(F3, F3),\n",
    "            DoubleResidualConv(F3, F3),\n",
    "        )\n",
    "        self.convs3 = nn.Sequential(\n",
    "            DoubleConv(F3, F4),\n",
    "            SConv(F4, F4),\n",
    "            DoubleResidualConv(F4, F4),\n",
    "        )\n",
    "        \n",
    "    def forward(self, x):\n",
    "        x = self.convs1(x)\n",
    "        x = self.convs2(x)\n",
    "        x = self.convs3(x)\n",
    "        \n",
    "        return x\n",
    "\n",
    "class Decoder(nn.Module):\n",
    "    def __init__(self):\n",
    "        super().__init__()\n",
    "        self.tconv1 = nn.Sequential(\n",
    "            DoubleResidualConv(F4, F4),\n",
    "            TConv(F4, F4),\n",
    "            DoubleConv(F4, F3),\n",
    "        )\n",
    "        self.tconv2 = nn.Sequential(\n",
    "            DoubleResidualConv(F3, F3),\n",
    "            TConv(F3, F3),\n",
    "            DoubleConv(F3, F2),\n",
    "        )\n",
    "        self.tconv3 = nn.Sequential(\n",
    "            DoubleResidualConv(F2, F2),\n",
    "            TConv(F2, F2),\n",
    "            DoubleConv(F2, F1)\n",
    "        )\n",
    "        \n",
    "        \n",
    "    def forward(self, x):\n",
    "        x = self.tconv1(x)\n",
    "        x = self.tconv2(x)\n",
    "        x = self.tconv3(x)\n",
    "        \n",
    "        return x"
   ]
  },
  {
   "cell_type": "code",
   "execution_count": 8,
   "id": "59214096-bda5-454f-967c-2ae2e284000b",
   "metadata": {},
   "outputs": [],
   "source": [
    "class AutoEncoder(nn.Module):\n",
    "    def __init__(self):\n",
    "        super().__init__()\n",
    "        self.encoder = Encoder()\n",
    "        self.decoder = Decoder()\n",
    "        \n",
    "        \n",
    "    def forward(self, x):\n",
    "        x = self.encoder(x)\n",
    "        x = self.decoder(x)\n",
    "        \n",
    "        return x"
   ]
  },
  {
   "cell_type": "code",
   "execution_count": 9,
   "id": "d6b30df0-4bfd-4c24-9ad6-b2be2b95a5e6",
   "metadata": {},
   "outputs": [],
   "source": [
    "class MultiEncoder(nn.Module):\n",
    "    def __init__(self):\n",
    "        super().__init__()\n",
    "        self.scaler = nn.Sequential(\n",
    "            DoubleConv(4, 16),\n",
    "            \n",
    "            DoubleConv(16, 16),\n",
    "            DoubleResidualConv(16, 16),\n",
    "            TConv(16, 16),\n",
    "            \n",
    "            DoubleConv(16, 16),\n",
    "            DoubleConv(16, 8),\n",
    "            #DoubleConv(8, 1),\n",
    "        )\n",
    "        self.descaler = nn.Sequential(\n",
    "            #DoubleConv(1, 8),\n",
    "            DoubleConv(8, 16),\n",
    "            DoubleConv(16, 16),\n",
    "\n",
    "            SConv(16, 16),\n",
    "            DoubleResidualConv(16, 16),\n",
    "            DoubleConv(16, 16),\n",
    "\n",
    "            nn.Conv2d(16, 4, kernel_size=1),\n",
    "        )\n",
    "        \n",
    "        \n",
    "    def forward(self, x):\n",
    "        x = self.scaler(x)\n",
    "        x = self.descaler(x)\n",
    "        \n",
    "        return x"
   ]
  },
  {
   "cell_type": "code",
   "execution_count": null,
   "id": "56daeaf8-2cb4-4122-a81e-6bdbb2537219",
   "metadata": {
    "tags": []
   },
   "outputs": [
    {
     "name": "stderr",
     "output_type": "stream",
     "text": [
      "0.06097761:  37%|██████████                 | 1873/5001 [01:06<01:50, 28.23it/s]"
     ]
    }
   ],
   "source": [
    "pimages = pimages.to(\"cuda\")\n",
    "model = MultiEncoder().to(\"cuda\")\n",
    "\n",
    "loss_func = nn.MSELoss()\n",
    "optimizer = optim.SGD(model.parameters(), lr=0.5e-2)\n",
    "\n",
    "pbar = tqdm(range(5001))\n",
    "def closure():\n",
    "    optimizer.zero_grad()\n",
    "\n",
    "    source = randint(0, 2)\n",
    "    batch = torch.randperm(385)[:4]\n",
    "\n",
    "    img  = pimages[source][batch]\n",
    "    pred = model(img)\n",
    "    \n",
    "    loss = loss_func(img, pred)\n",
    "    loss.backward()\n",
    "\n",
    "    pbar.set_description(f\"%.8f\" % loss)\n",
    "\n",
    "    return loss\n",
    "\n",
    "\n",
    "\n",
    "model.train()\n",
    "\n",
    "for j in pbar:\n",
    "    optimizer.step(closure)\n",
    "\n",
    "model.eval();"
   ]
  },
  {
   "cell_type": "code",
   "execution_count": null,
   "id": "39812f94-046c-441f-a70f-8ff40b5d6246",
   "metadata": {
    "tags": []
   },
   "outputs": [],
   "source": [
    "plot_image(model(pimages[0][9][None])[0])"
   ]
  },
  {
   "cell_type": "code",
   "execution_count": null,
   "id": "d39f5c72-0a18-4638-9d1d-7548f161a4e2",
   "metadata": {
    "tags": []
   },
   "outputs": [],
   "source": [
    "plot_image(model.scaler(pimages[0][277][None])[0][[0,0,0,0]])"
   ]
  },
  {
   "cell_type": "code",
   "execution_count": null,
   "id": "aa16e7e5-9e5c-40b1-ab3e-6fd82ca9a93e",
   "metadata": {},
   "outputs": [],
   "source": []
  }
 ],
 "metadata": {
  "kernelspec": {
   "display_name": "Python 3 (ipykernel)",
   "language": "python",
   "name": "python3"
  },
  "language_info": {
   "codemirror_mode": {
    "name": "ipython",
    "version": 3
   },
   "file_extension": ".py",
   "mimetype": "text/x-python",
   "name": "python",
   "nbconvert_exporter": "python",
   "pygments_lexer": "ipython3",
   "version": "3.11.3"
  }
 },
 "nbformat": 4,
 "nbformat_minor": 5
}
