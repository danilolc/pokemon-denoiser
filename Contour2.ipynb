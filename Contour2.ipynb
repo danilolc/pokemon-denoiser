{
 "cells": [
  {
   "cell_type": "code",
   "execution_count": 1,
   "metadata": {},
   "outputs": [],
   "source": [
    "import os, copy, torch, numpy as np\n",
    "from torch.utils.data import DataLoader, Dataset\n",
    "from torchvision.io import read_image\n",
    "from torchvision.transforms import v2\n",
    "from torchvision import transforms\n",
    "import torch\n",
    "import torch.nn as nn\n",
    "from tqdm import tqdm \n",
    "from PIL import Image\n",
    "import pandas as pd\n",
    "\n",
    "from matplotlib import pyplot as plt\n",
    "\n",
    "device = \"cpu\"\n",
    "\n",
    "model = torch.jit.load('contour_model.pt')\n",
    "model.eval();"
   ]
  },
  {
   "cell_type": "code",
   "execution_count": 13,
   "metadata": {},
   "outputs": [],
   "source": [
    "src = \"dataset/rs/\"\n",
    "\n",
    "imgs = os.listdir(src)\n",
    "if \"back\" in imgs:\n",
    "    imgs.remove(\"back\")\n",
    "\n",
    "props = []\n",
    "\n",
    "model.train()\n",
    "for i in imgs:\n",
    "\n",
    "    toTensor = transforms.ToTensor()\n",
    "    img = Image.open(src + i)\n",
    "    img = toTensor(img.convert(\"RGBA\"))\n",
    "    \n",
    "    alpha = img[[3]]\n",
    "    img = img[[0,1,2]] * alpha\n",
    "    img += 1 - alpha\n",
    "\n",
    "    out = model(img[None, ...])[0]\n",
    "\n",
    "    rzero = (out < 0.3)\n",
    "    rones = (out > 0.5)\n",
    "    rnone = (out >= 0.3) * (out <= 0.7)\n",
    "\n",
    "    prop = rnone.sum() / torch.clamp(rones + rnone, 0, 1).sum()\n",
    "    if prop > 0.16:\n",
    "        props.append((float(prop), i))\n",
    "\n",
    "    #plt.imshow(torch.clamp(ro, 0, 1)[0].detach().numpy())\n",
    "    #plt.show()\n",
    "    #plt.imshow(torch.clamp(dv, 0, 1)[0].detach().numpy())\n",
    "    #plt.show()\n",
    "\n",
    "pd.DataFrame(props).to_csv(\"pds.csv\")"
   ]
  },
  {
   "cell_type": "code",
   "execution_count": 14,
   "metadata": {},
   "outputs": [
    {
     "data": {
      "text/plain": [
       "36"
      ]
     },
     "execution_count": 14,
     "metadata": {},
     "output_type": "execute_result"
    }
   ],
   "source": [
    "len(props)"
   ]
  },
  {
   "cell_type": "code",
   "execution_count": 17,
   "metadata": {},
   "outputs": [],
   "source": [
    "src = \"dataset/rs_cont/\"\n",
    "dst = \"dataset/gt_rs/\"\n",
    "os.makedirs(dst, exist_ok=True)\n",
    "\n",
    "for _, p in props:\n",
    "    src + p\n",
    "\n",
    "    os.system(f'cp \"{src + p}\" \"{dst + p}\"')  \n"
   ]
  }
 ],
 "metadata": {
  "kernelspec": {
   "display_name": "base",
   "language": "python",
   "name": "python3"
  },
  "language_info": {
   "codemirror_mode": {
    "name": "ipython",
    "version": 3
   },
   "file_extension": ".py",
   "mimetype": "text/x-python",
   "name": "python",
   "nbconvert_exporter": "python",
   "pygments_lexer": "ipython3",
   "version": "3.11.5"
  }
 },
 "nbformat": 4,
 "nbformat_minor": 2
}
