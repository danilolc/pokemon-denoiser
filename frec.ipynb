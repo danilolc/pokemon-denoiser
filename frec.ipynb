{
 "cells": [
  {
   "cell_type": "code",
   "execution_count": 109,
   "metadata": {},
   "outputs": [
    {
     "data": {
      "text/plain": [
       "tensor([[1., 9., 9., 2., 2., 2.]])"
      ]
     },
     "execution_count": 109,
     "metadata": {},
     "output_type": "execute_result"
    }
   ],
   "source": [
    "import torch\n",
    "from torch import nn\n",
    "\n",
    "V = torch.tensor([[1, 9, 9, 2, 2, 2]], dtype=torch.float32)\n",
    "V"
   ]
  },
  {
   "cell_type": "code",
   "execution_count": 192,
   "metadata": {},
   "outputs": [
    {
     "data": {
      "text/plain": [
       "tensor([6.1653, 5.5938, 5.5938, 3.2828, 3.2828, 3.2828], grad_fn=<CopySlices>)"
      ]
     },
     "execution_count": 192,
     "metadata": {},
     "output_type": "execute_result"
    }
   ],
   "source": [
    "L = nn.Sequential(\n",
    "    nn.Linear(1, 256),\n",
    "    nn.Tanh(),\n",
    ")\n",
    "\n",
    "VV = L(V.permute(1, 0))\n",
    "\n",
    "A = torch.zeros(VV.shape[0])\n",
    "for i in range(A.shape[0]):\n",
    "    A[i] = (VV - VV[i]).pow(2).sum(dim=1).sqrt().mean()\n",
    "\n",
    "A\n",
    "\n",
    "\n",
    "1 1 1 1 2 2 2 2 2 3 3\n",
    "\n",
    "1 2 3\n",
    "\n",
    "----------------------------"
   ]
  }
 ],
 "metadata": {
  "kernelspec": {
   "display_name": "base",
   "language": "python",
   "name": "python3"
  },
  "language_info": {
   "codemirror_mode": {
    "name": "ipython",
    "version": 3
   },
   "file_extension": ".py",
   "mimetype": "text/x-python",
   "name": "python",
   "nbconvert_exporter": "python",
   "pygments_lexer": "ipython3",
   "version": "3.11.5"
  }
 },
 "nbformat": 4,
 "nbformat_minor": 2
}
